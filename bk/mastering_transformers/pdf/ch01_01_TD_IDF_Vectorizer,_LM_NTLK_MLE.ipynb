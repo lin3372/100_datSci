{
  "nbformat": 4,
  "nbformat_minor": 0,
  "metadata": {
    "kernelspec": {
      "display_name": "Python 3",
      "language": "python",
      "name": "python3"
    },
    "language_info": {
      "codemirror_mode": {
        "name": "ipython",
        "version": 3
      },
      "file_extension": ".py",
      "mimetype": "text/x-python",
      "name": "python",
      "nbconvert_exporter": "python",
      "pygments_lexer": "ipython3",
      "version": "3.8.5"
    },
    "colab": {
      "name": "ch01.01_TD-IDF Vectorizer, LM_NTLK_MLE.ipynb",
      "provenance": [],
      "collapsed_sections": [],
      "include_colab_link": true
    },
    "accelerator": "GPU"
  },
  "cells": [
    {
      "cell_type": "markdown",
      "metadata": {
        "id": "view-in-github",
        "colab_type": "text"
      },
      "source": [
        "<a href=\"https://colab.research.google.com/github/lin3372/100_datSci/blob/main/bk/mastering_transformers/pdf/ch01_01_TD_IDF_Vectorizer%2C_LM_NTLK_MLE.ipynb\" target=\"_parent\"><img src=\"https://colab.research.google.com/assets/colab-badge.svg\" alt=\"Open In Colab\"/></a>"
      ]
    },
    {
      "cell_type": "markdown",
      "metadata": {
        "id": "XiAh98viDo2P"
      },
      "source": [
        "### setup & environment\n",
        "updated 2021/11/14 14:07 @ Starbucks Ren-Ai Yenji\n",
        "@Ivan H.P. Lin"
      ]
    },
    {
      "cell_type": "code",
      "metadata": {
        "id": "h6guSuZOab_g"
      },
      "source": [
        "import numpy as np\n",
        "import pandas as pd\n",
        "\n",
        "class bcolors:\n",
        "    HEADER = '\\033[95m'\n",
        "    OKBLUE = '\\033[94m'\n",
        "    OKCYAN = '\\033[96m'\n",
        "    OKGREEN = '\\033[92m'\n",
        "    WARNING = '\\033[93m'\n",
        "    FAIL = '\\033[91m'\n",
        "    ENDC = '\\033[0m'\n",
        "    BOLD = '\\033[1m'\n",
        "    UNDERLINE = '\\033[4m'"
      ],
      "execution_count": null,
      "outputs": []
    },
    {
      "cell_type": "markdown",
      "metadata": {
        "id": "4MRK-64GDHlo"
      },
      "source": [
        "# 01.01- TF-IDF Vectorizer\n",
        "### [TF-IDF Vectorizer scikit-learn (medium-6min)](https://medium.com/@cmukesh8688/tf-idf-vectorizer-scikit-learn-dbc0244a911a)\n",
        "### [簡單使用scikit-learn裡的TFIDF看看](https://ithelp.ithome.com.tw/articles/10228481)"
      ]
    },
    {
      "cell_type": "code",
      "metadata": {
        "colab": {
          "base_uri": "https://localhost:8080/",
          "height": 247
        },
        "id": "qhxAIdtpDHlv",
        "outputId": "780016fc-0361-49ec-b33c-8fe8d016b2fa"
      },
      "source": [
        "from sklearn.feature_extraction.text import TfidfVectorizer \n",
        "import numpy as np\n",
        "import pandas as pd\n",
        "\n",
        "toy_corpus= [\"the fat cat sat on the mat\",\n",
        "             \"the big cat slept\",\n",
        "             \"the dog chased a cat\"]\n",
        "vectorizer=TfidfVectorizer(use_idf=True)\n",
        "\n",
        "corpus_tfidf=vectorizer.fit_transform(toy_corpus)\n",
        "\n",
        "print(f\"The vocabulary size is {len(vectorizer.vocabulary_.keys())} \")\n",
        "print(f\"The document-term matrix shape is {corpus_tfidf.shape}\")\n",
        "\n",
        "df=pd.DataFrame(np.round(corpus_tfidf.toarray(),2))\n",
        "df.columns=vectorizer.get_feature_names()\n",
        "print(f\"Column = {df.columns}\")\n",
        "print(f\"Row0 = {df.columns[8]}\")\n",
        "df"
      ],
      "execution_count": null,
      "outputs": [
        {
          "output_type": "stream",
          "name": "stdout",
          "text": [
            "The vocabulary size is 10 \n",
            "The document-term matrix shape is (3, 10)\n",
            "Column = Index(['big', 'cat', 'chased', 'dog', 'fat', 'mat', 'on', 'sat', 'slept',\n",
            "       'the'],\n",
            "      dtype='object')\n",
            "Row0 = slept\n"
          ]
        },
        {
          "output_type": "execute_result",
          "data": {
            "text/html": [
              "<div>\n",
              "<style scoped>\n",
              "    .dataframe tbody tr th:only-of-type {\n",
              "        vertical-align: middle;\n",
              "    }\n",
              "\n",
              "    .dataframe tbody tr th {\n",
              "        vertical-align: top;\n",
              "    }\n",
              "\n",
              "    .dataframe thead th {\n",
              "        text-align: right;\n",
              "    }\n",
              "</style>\n",
              "<table border=\"1\" class=\"dataframe\">\n",
              "  <thead>\n",
              "    <tr style=\"text-align: right;\">\n",
              "      <th></th>\n",
              "      <th>big</th>\n",
              "      <th>cat</th>\n",
              "      <th>chased</th>\n",
              "      <th>dog</th>\n",
              "      <th>fat</th>\n",
              "      <th>mat</th>\n",
              "      <th>on</th>\n",
              "      <th>sat</th>\n",
              "      <th>slept</th>\n",
              "      <th>the</th>\n",
              "    </tr>\n",
              "  </thead>\n",
              "  <tbody>\n",
              "    <tr>\n",
              "      <th>0</th>\n",
              "      <td>0.00</td>\n",
              "      <td>0.25</td>\n",
              "      <td>0.00</td>\n",
              "      <td>0.00</td>\n",
              "      <td>0.42</td>\n",
              "      <td>0.42</td>\n",
              "      <td>0.42</td>\n",
              "      <td>0.42</td>\n",
              "      <td>0.00</td>\n",
              "      <td>0.49</td>\n",
              "    </tr>\n",
              "    <tr>\n",
              "      <th>1</th>\n",
              "      <td>0.61</td>\n",
              "      <td>0.36</td>\n",
              "      <td>0.00</td>\n",
              "      <td>0.00</td>\n",
              "      <td>0.00</td>\n",
              "      <td>0.00</td>\n",
              "      <td>0.00</td>\n",
              "      <td>0.00</td>\n",
              "      <td>0.61</td>\n",
              "      <td>0.36</td>\n",
              "    </tr>\n",
              "    <tr>\n",
              "      <th>2</th>\n",
              "      <td>0.00</td>\n",
              "      <td>0.36</td>\n",
              "      <td>0.61</td>\n",
              "      <td>0.61</td>\n",
              "      <td>0.00</td>\n",
              "      <td>0.00</td>\n",
              "      <td>0.00</td>\n",
              "      <td>0.00</td>\n",
              "      <td>0.00</td>\n",
              "      <td>0.36</td>\n",
              "    </tr>\n",
              "  </tbody>\n",
              "</table>\n",
              "</div>"
            ],
            "text/plain": [
              "    big   cat  chased   dog   fat   mat    on   sat  slept   the\n",
              "0  0.00  0.25    0.00  0.00  0.42  0.42  0.42  0.42   0.00  0.49\n",
              "1  0.61  0.36    0.00  0.00  0.00  0.00  0.00  0.00   0.61  0.36\n",
              "2  0.00  0.36    0.61  0.61  0.00  0.00  0.00  0.00   0.00  0.36"
            ]
          },
          "metadata": {},
          "execution_count": 2
        }
      ]
    },
    {
      "cell_type": "markdown",
      "metadata": {
        "id": "Wn4jHEk1DHlw"
      },
      "source": [
        "Each column in the matrix stands for the vector of a word in the vocabulary, and each\n",
        "row stands for the vector of a document. Semantic similarity metrics can be applied\n",
        "to compute the similarity or dissimilarity of the words as well as documents. Most of\n",
        "the time, we use *bigrams* such as *cat_sat* and *the_street* to enrich the document\n",
        "representation. For instance, as the parameter ngram_range=(1,2) is passed to\n",
        "TfidfVectorizer, it builds a vector space containing both unigrams (big, cat,\n",
        "dog) *italicized text* and *bigrams (big_cat, big_dog)*. Thus, such models are also called ***bag-of-ngrams***,\n",
        "which is a natural extension of BoW\n",
        "\n",
        "**Inverse Document Frequency (IDF)** is a statistical weight to measure the importance of\n",
        "a word in a document—for example, while the word the has no discriminative power,\n",
        "chased can be highly informative and give clues about the subject of the text. This is\n",
        "because high-frequency words (stopwords, functional words) have little discriminating\n",
        "power in understanding the documents.\n",
        "The discriminativeness of the terms also depends on the domain—for instance, a list of\n",
        "DL articles is most likely to have the word network in almost every document. IDF can\n",
        "scale down the weights of all terms by using their Document Frequency (DF), where the\n",
        "DF of a word is computed by the number of documents in which a term"
      ]
    },
    {
      "cell_type": "code",
      "metadata": {
        "id": "lOPUtAXMDHlw"
      },
      "source": [
        ""
      ],
      "execution_count": null,
      "outputs": []
    },
    {
      "cell_type": "markdown",
      "metadata": {
        "id": "8ykxRj_2DHlw"
      },
      "source": [
        "## Classification"
      ]
    },
    {
      "cell_type": "code",
      "metadata": {
        "colab": {
          "base_uri": "https://localhost:8080/"
        },
        "id": "m662-4u6DHlw",
        "outputId": "bc07cf72-de04-485f-ddc9-9dd6d3df35a4"
      },
      "source": [
        "from sklearn.pipeline import make_pipeline\n",
        "from sklearn.svm import SVC\n",
        "labels= [0,1,0]\n",
        "clf =  SVC()\n",
        "clf.fit(df, labels)"
      ],
      "execution_count": null,
      "outputs": [
        {
          "output_type": "execute_result",
          "data": {
            "text/plain": [
              "SVC(C=1.0, break_ties=False, cache_size=200, class_weight=None, coef0=0.0,\n",
              "    decision_function_shape='ovr', degree=3, gamma='scale', kernel='rbf',\n",
              "    max_iter=-1, probability=False, random_state=None, shrinking=True,\n",
              "    tol=0.001, verbose=False)"
            ]
          },
          "metadata": {},
          "execution_count": 3
        }
      ]
    },
    {
      "cell_type": "code",
      "metadata": {
        "colab": {
          "base_uri": "https://localhost:8080/"
        },
        "id": "BBkUXl5SDHlx",
        "outputId": "928e75b4-c05c-49f9-ffac-490c674ecaec"
      },
      "source": [
        "clf.predict(df)"
      ],
      "execution_count": null,
      "outputs": [
        {
          "output_type": "execute_result",
          "data": {
            "text/plain": [
              "array([0, 1, 0])"
            ]
          },
          "metadata": {},
          "execution_count": 4
        }
      ]
    },
    {
      "cell_type": "code",
      "metadata": {
        "id": "rQwKtV8ADHlx"
      },
      "source": [
        ""
      ],
      "execution_count": null,
      "outputs": []
    }
  ]
}