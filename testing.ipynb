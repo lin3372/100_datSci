{
  "nbformat": 4,
  "nbformat_minor": 0,
  "metadata": {
    "colab": {
      "name": "testing.ipynb",
      "provenance": [],
      "authorship_tag": "ABX9TyM+ubgPqTvwaQxDFrgJzy56",
      "include_colab_link": true
    },
    "kernelspec": {
      "name": "python3",
      "display_name": "Python 3"
    },
    "language_info": {
      "name": "python"
    }
  },
  "cells": [
    {
      "cell_type": "markdown",
      "metadata": {
        "id": "view-in-github",
        "colab_type": "text"
      },
      "source": [
        "<a href=\"https://colab.research.google.com/github/lin3372/100_datSci/blob/main/testing.ipynb\" target=\"_parent\"><img src=\"https://colab.research.google.com/assets/colab-badge.svg\" alt=\"Open In Colab\"/></a>"
      ]
    },
    {
      "cell_type": "markdown",
      "source": [
        "[2.1 Git Basics - Getting a Git Repository](https://git-scm.com/book/en/v2/Git-Basics-Getting-a-Git-Repository)"
      ],
      "metadata": {
        "id": "rp0nxtbqlRTq"
      }
    },
    {
      "cell_type": "code",
      "execution_count": 16,
      "metadata": {
        "colab": {
          "base_uri": "https://localhost:8080/"
        },
        "id": "dBwuGRG-sBkh",
        "outputId": "5b35e47c-bfc5-49f2-fd5a-b85c7f407d91"
      },
      "outputs": [
        {
          "output_type": "stream",
          "name": "stdout",
          "text": [
            "hello world !\n"
          ]
        }
      ],
      "source": [
        "import os\n",
        "\n",
        "print(\"hello world !\")"
      ]
    },
    {
      "cell_type": "code",
      "source": [
        "!git --version\n",
        "\n",
        "!mkdir testing\n",
        "!cd testing"
      ],
      "metadata": {
        "colab": {
          "base_uri": "https://localhost:8080/"
        },
        "id": "NSZ3pWVrsYDw",
        "outputId": "094c9611-35e7-4484-b7bc-1f9c8261b78a"
      },
      "execution_count": 7,
      "outputs": [
        {
          "output_type": "stream",
          "name": "stdout",
          "text": [
            "git version 2.17.1\n"
          ]
        }
      ]
    },
    {
      "cell_type": "code",
      "source": [
        "!git init"
      ],
      "metadata": {
        "colab": {
          "base_uri": "https://localhost:8080/"
        },
        "id": "Q7Pn9AV7hDir",
        "outputId": "3226d68d-cb54-4e0d-927d-3112733cbf21"
      },
      "execution_count": 8,
      "outputs": [
        {
          "output_type": "stream",
          "name": "stdout",
          "text": [
            "Initialized empty Git repository in /content/.git/\n"
          ]
        }
      ]
    },
    {
      "cell_type": "code",
      "source": [
        "!ls -lia\n",
        "\n",
        "!pwd\n",
        "!echo \"1234\" > test.txt"
      ],
      "metadata": {
        "colab": {
          "base_uri": "https://localhost:8080/"
        },
        "id": "L2XTzr_ThSWL",
        "outputId": "01482d83-01a4-45dc-a1ac-712850d6364e"
      },
      "execution_count": 13,
      "outputs": [
        {
          "output_type": "stream",
          "name": "stdout",
          "text": [
            "total 24\n",
            "3538969 drwxr-xr-x 1 root root 4096 Dec 10 13:24 .\n",
            "6430235 drwxr-xr-x 1 root root 4096 Dec 10 13:09 ..\n",
            "4325396 drwxr-xr-x 4 root root 4096 Dec  3 14:33 .config\n",
            "6422532 drwxr-xr-x 7 root root 4096 Dec 10 13:24 .git\n",
            "3538970 drwxr-xr-x 1 root root 4096 Dec  3 14:33 sample_data\n",
            "6422531 drwxr-xr-x 2 root root 4096 Dec 10 13:24 testing\n",
            "/content\n"
          ]
        }
      ]
    },
    {
      "cell_type": "code",
      "source": [
        "!git config --global user.name \"Ivan HP\"\n",
        "!git config --global user.email \"lin3372@gmail.com\""
      ],
      "metadata": {
        "id": "KMFxsY7OgPYu"
      },
      "execution_count": 14,
      "outputs": []
    },
    {
      "cell_type": "code",
      "source": [
        "!git clone https://github.com/lin3372/100_datSci"
      ],
      "metadata": {
        "colab": {
          "base_uri": "https://localhost:8080/"
        },
        "id": "n2zjiqzwiF3T",
        "outputId": "cd26b80e-aee7-4dbb-f46e-5245f49cdf93"
      },
      "execution_count": 15,
      "outputs": [
        {
          "output_type": "stream",
          "name": "stdout",
          "text": [
            "Cloning into '100_datSci'...\n",
            "remote: Enumerating objects: 6, done.\u001b[K\n",
            "remote: Counting objects: 100% (6/6), done.\u001b[K\n",
            "remote: Compressing objects: 100% (4/4), done.\u001b[K\n",
            "remote: Total 6 (delta 0), reused 0 (delta 0), pack-reused 0\u001b[K\n",
            "Unpacking objects: 100% (6/6), done.\n"
          ]
        }
      ]
    },
    {
      "cell_type": "code",
      "source": [
        "os.chdir(\"100_datSci\")"
      ],
      "metadata": {
        "id": "0GqXt2LQh7P8"
      },
      "execution_count": 17,
      "outputs": []
    },
    {
      "cell_type": "code",
      "source": [
        "!ls -l"
      ],
      "metadata": {
        "colab": {
          "base_uri": "https://localhost:8080/"
        },
        "id": "3V6oc-DZitDM",
        "outputId": "9970890a-9e12-47b7-d768-a966ca3f5bbb"
      },
      "execution_count": 18,
      "outputs": [
        {
          "output_type": "stream",
          "name": "stdout",
          "text": [
            "total 12\n",
            "-rw-r--r-- 1 root root   34 Dec 10 13:30 README.md\n",
            "-rw-r--r-- 1 root root 1264 Dec 10 13:30 testing.ipynb\n",
            "-rw-r--r-- 1 root root    5 Dec 10 13:27 test.txt\n"
          ]
        }
      ]
    },
    {
      "cell_type": "code",
      "source": [
        "!git add *"
      ],
      "metadata": {
        "id": "A1ZYIzoRjiQ7"
      },
      "execution_count": 22,
      "outputs": []
    },
    {
      "cell_type": "code",
      "source": [
        "!git status"
      ],
      "metadata": {
        "colab": {
          "base_uri": "https://localhost:8080/"
        },
        "id": "2_FFyGoojqfT",
        "outputId": "7e356f74-ada0-4927-a831-40059d1aa9d3"
      },
      "execution_count": 27,
      "outputs": [
        {
          "output_type": "stream",
          "name": "stdout",
          "text": [
            "On branch main\n",
            "Your branch is ahead of 'origin/main' by 1 commit.\n",
            "  (use \"git push\" to publish your local commits)\n",
            "\n",
            "nothing to commit, working tree clean\n"
          ]
        }
      ]
    },
    {
      "cell_type": "code",
      "source": [
        "!git status -s"
      ],
      "metadata": {
        "colab": {
          "base_uri": "https://localhost:8080/"
        },
        "id": "zBas7uYWkmMq",
        "outputId": "41c83a90-c497-4810-f3be-f5c403ff24ec"
      },
      "execution_count": 24,
      "outputs": [
        {
          "output_type": "stream",
          "name": "stdout",
          "text": [
            "\u001b[32mA\u001b[m  test.txt\n",
            "\u001b[32mA\u001b[m  test/A/file_A.txt\n",
            "\u001b[32mA\u001b[m  test/B/file_B.txt\n",
            "\u001b[32mA\u001b[m  test2.txt\n"
          ]
        }
      ]
    },
    {
      "cell_type": "code",
      "source": [
        "!git commit -m \"testing - 2112102137\""
      ],
      "metadata": {
        "colab": {
          "base_uri": "https://localhost:8080/"
        },
        "id": "S3wAJBD4j93D",
        "outputId": "076f9c11-7a0e-4630-a715-ad5c0916dd8c"
      },
      "execution_count": 26,
      "outputs": [
        {
          "output_type": "stream",
          "name": "stdout",
          "text": [
            "[main 36ea4b6] testing - 2112102137\n",
            " 4 files changed, 3 insertions(+)\n",
            " create mode 100644 test.txt\n",
            " create mode 100644 test/A/file_A.txt\n",
            " create mode 100644 test/B/file_B.txt\n",
            " create mode 100644 test2.txt\n"
          ]
        }
      ]
    },
    {
      "cell_type": "code",
      "source": [
        "!git log"
      ],
      "metadata": {
        "colab": {
          "base_uri": "https://localhost:8080/"
        },
        "id": "fY2odkWElorq",
        "outputId": "21b5fa8a-6eba-46c0-ffc6-3549c69b7453"
      },
      "execution_count": 28,
      "outputs": [
        {
          "output_type": "stream",
          "name": "stdout",
          "text": [
            "\u001b[33mcommit 36ea4b61ff513380f7317566cc8c0869f6c6de52\u001b[m\u001b[33m (\u001b[m\u001b[1;36mHEAD -> \u001b[m\u001b[1;32mmain\u001b[m\u001b[33m)\u001b[m\n",
            "Author: Ivan HP <lin3372@gmail.com>\n",
            "Date:   Fri Dec 10 13:41:07 2021 +0000\n",
            "\n",
            "    testing - 2112102137\n",
            "\n",
            "\u001b[33mcommit e11da2102eb30db795e813a83f35feac111a76c0\u001b[m\u001b[33m (\u001b[m\u001b[1;31morigin/main\u001b[m\u001b[33m, \u001b[m\u001b[1;31morigin/HEAD\u001b[m\u001b[33m)\u001b[m\n",
            "Author: mlmouse3 <lin3372@gmail.com>\n",
            "Date:   Fri Dec 10 17:33:55 2021 +0800\n",
            "\n",
            "    Created using Colaboratory\n",
            "\n",
            "\u001b[33mcommit 52d33bef1c8d87f48aefc2f696418ed59344e235\u001b[m\n",
            "Author: lin3372 <lin3372@gmail.com>\n",
            "Date:   Fri Dec 10 14:24:27 2021 +0800\n",
            "\n",
            "    Initial commit\n"
          ]
        }
      ]
    },
    {
      "cell_type": "code",
      "source": [
        "!git remote -v"
      ],
      "metadata": {
        "colab": {
          "base_uri": "https://localhost:8080/"
        },
        "id": "2JZ-NMGEmPja",
        "outputId": "fc63e5a7-8b25-46d8-c9ee-764144e2d602"
      },
      "execution_count": 29,
      "outputs": [
        {
          "output_type": "stream",
          "name": "stdout",
          "text": [
            "origin\thttps://github.com/lin3372/100_datSci (fetch)\n",
            "origin\thttps://github.com/lin3372/100_datSci (push)\n"
          ]
        }
      ]
    },
    {
      "cell_type": "code",
      "source": [
        "!git push origin master"
      ],
      "metadata": {
        "colab": {
          "base_uri": "https://localhost:8080/"
        },
        "id": "LqqGMJO9mgWr",
        "outputId": "4fd82eb6-45e7-4c69-9672-556df65ec1dd"
      },
      "execution_count": 30,
      "outputs": [
        {
          "output_type": "stream",
          "name": "stdout",
          "text": [
            "error: src refspec master does not match any.\n",
            "error: failed to push some refs to 'https://github.com/lin3372/100_datSci'\n"
          ]
        }
      ]
    }
  ]
}