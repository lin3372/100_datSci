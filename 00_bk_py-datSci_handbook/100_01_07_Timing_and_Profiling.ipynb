{
  "cells": [
    {
      "cell_type": "markdown",
      "metadata": {
        "id": "view-in-github",
        "colab_type": "text"
      },
      "source": [
        "<a href=\"https://colab.research.google.com/github/lin3372/100_datSci/blob/main/00_bk_py-datSci_handbook/100_01_07_Timing_and_Profiling.ipynb\" target=\"_parent\"><img src=\"https://colab.research.google.com/assets/colab-badge.svg\" alt=\"Open In Colab\"/></a>"
      ]
    },
    {
      "cell_type": "markdown",
      "source": [
        "ivan.hp.lin - 211215 @ diamond"
      ],
      "metadata": {
        "id": "Ly1FLlCtjQpI"
      }
    },
    {
      "cell_type": "markdown",
      "metadata": {
        "id": "Cbmd2_ZJ9kh7"
      },
      "source": [
        "<!--BOOK_INFORMATION-->\n",
        "<img align=\"left\" style=\"padding-right:10px;\" src=\"https://github.com/jakevdp/PythonDataScienceHandbook/blob/master/notebooks/figures/PDSH-cover-small.png?raw=1\">\n",
        "\n",
        "*This notebook contains an excerpt from the [Python Data Science Handbook](http://shop.oreilly.com/product/0636920034919.do) by Jake VanderPlas; the content is available [on GitHub](https://github.com/jakevdp/PythonDataScienceHandbook).*\n",
        "\n",
        "*The text is released under the [CC-BY-NC-ND license](https://creativecommons.org/licenses/by-nc-nd/3.0/us/legalcode), and code is released under the [MIT license](https://opensource.org/licenses/MIT). If you find this content useful, please consider supporting the work by [buying the book](http://shop.oreilly.com/product/0636920034919.do)!*"
      ]
    },
    {
      "cell_type": "markdown",
      "metadata": {
        "id": "bkD23laQ9kh_"
      },
      "source": [
        "<!--NAVIGATION-->\n",
        "< [Errors and Debugging](01.06-Errors-and-Debugging.ipynb) | [Contents](Index.ipynb) | [More IPython Resources](01.08-More-IPython-Resources.ipynb) >\n",
        "\n",
        "<a href=\"https://colab.research.google.com/github/jakevdp/PythonDataScienceHandbook/blob/master/notebooks/01.07-Timing-and-Profiling.ipynb\"><img align=\"left\" src=\"https://colab.research.google.com/assets/colab-badge.svg\" alt=\"Open in Colab\" title=\"Open and Execute in Google Colaboratory\"></a>\n"
      ]
    },
    {
      "cell_type": "markdown",
      "metadata": {
        "id": "V5yEZb3f9kiA"
      },
      "source": [
        "# Profiling and Timing Code"
      ]
    },
    {
      "cell_type": "markdown",
      "metadata": {
        "id": "UtlTeAXf9kiA"
      },
      "source": [
        "In the process of developing code and creating data processing pipelines, there are often trade-offs you can make between various implementations.\n",
        "Early in developing your algorithm, it can be counterproductive to worry about such things. As Donald Knuth famously quipped, \"We should forget about small efficiencies, say about 97% of the time: premature optimization is the root of all evil.\"\n",
        "\n",
        "But once you have your code working, it can be useful to dig into its efficiency a bit.\n",
        "Sometimes it's useful to check the execution time of a given command or set of commands; other times it's useful to dig into a multiline process and determine where the bottleneck lies in some complicated series of operations.\n",
        "IPython provides access to a wide array of functionality for this kind of timing and profiling of code.\n",
        "Here we'll discuss the following IPython magic commands:\n",
        "\n",
        "- **``%time``**: Time the execution of a single statement\n",
        "- **``%timeit``**: Time repeated execution of a single statement for more accuracy\n",
        "- **``%prun``**: Run code with the profiler\n",
        "- **``%lprun``**: Run code with the line-by-line profiler\n",
        "- **``%memit``**: Measure the memory use of a single statement\n",
        "- **``%mprun``**: Run code with the line-by-line memory profiler\n",
        "\n",
        "The last four commands are not bundled with IPython–you'll need to get the ``line_profiler`` and ``memory_profiler`` extensions, which we will discuss in the following sections."
      ]
    },
    {
      "cell_type": "markdown",
      "metadata": {
        "id": "kdzJsA6o9kiB"
      },
      "source": [
        "## Timing Code Snippets: ``%timeit`` and ``%time``\n",
        "\n",
        "We saw the ``%timeit`` line-magic and ``%%timeit`` cell-magic in the introduction to magic functions in [IPython Magic Commands](01.03-Magic-Commands.ipynb); it can be used to time the repeated execution of snippets of code:"
      ]
    },
    {
      "cell_type": "code",
      "execution_count": null,
      "metadata": {
        "id": "TAR2ggvg9kiC",
        "outputId": "a71ff023-636b-407c-e1dd-195f64591169",
        "colab": {
          "base_uri": "https://localhost:8080/"
        }
      },
      "outputs": [
        {
          "output_type": "stream",
          "name": "stdout",
          "text": [
            "100000 loops, best of 5: 18.1 µs per loop\n",
            "\n",
            "CPU times: user 17 µs, sys: 5 µs, total: 22 µs\n",
            "Wall time: 25.3 µs\n"
          ]
        },
        {
          "output_type": "execute_result",
          "data": {
            "text/plain": [
              "499500"
            ]
          },
          "metadata": {},
          "execution_count": 42
        }
      ],
      "source": [
        "%timeit sum(range(1000))\n",
        "print(\"\")\n",
        "%time sum(range(1000))"
      ]
    },
    {
      "cell_type": "markdown",
      "metadata": {
        "id": "6vbeHmly9kiE"
      },
      "source": [
        "Note that because this operation is so fast, ``%timeit`` automatically does a large number of repetitions.\n",
        "For slower commands, ``%timeit`` will automatically adjust and perform fewer repetitions:"
      ]
    },
    {
      "cell_type": "code",
      "execution_count": null,
      "metadata": {
        "id": "bLBFif_I9kiF",
        "outputId": "7c31654c-8187-425b-c932-8e629243fd00",
        "colab": {
          "base_uri": "https://localhost:8080/"
        }
      },
      "outputs": [
        {
          "output_type": "stream",
          "name": "stdout",
          "text": [
            "1 loop, best of 5: 339 ms per loop\n",
            "1 loop, best of 5: 345 ms per loop\n"
          ]
        }
      ],
      "source": [
        "%%timeit\n",
        "total = 0\n",
        "for i in range(1000):\n",
        "    for j in range(1000):\n",
        "        total += i * (-1) ** j"
      ]
    },
    {
      "cell_type": "markdown",
      "metadata": {
        "id": "8XeMkSCV9kiG"
      },
      "source": [
        "Sometimes repeating an operation is not the best option.\n",
        "For example, if we have a list that we'd like to sort, we might be misled by a repeated operation.\n",
        "Sorting a pre-sorted list is much faster than sorting an unsorted list, so the repetition will skew the result:"
      ]
    },
    {
      "cell_type": "code",
      "execution_count": null,
      "metadata": {
        "id": "LcJ-eui79kiG",
        "outputId": "2465817a-81ea-455f-b9aa-cc825f0b2f46",
        "colab": {
          "base_uri": "https://localhost:8080/"
        }
      },
      "outputs": [
        {
          "output_type": "stream",
          "name": "stdout",
          "text": [
            "The slowest run took 31.79 times longer than the fastest. This could mean that an intermediate result is being cached.\n",
            "1000 loops, best of 5: 733 µs per loop\n",
            "\n",
            "1000 loops, best of 5: 709 µs per loop\n",
            "The slowest run took 29.63 times longer than the fastest. This could mean that an intermediate result is being cached.\n",
            "1000 loops, best of 5: 742 µs per loop\n",
            "\n",
            "1000 loops, best of 5: 732 µs per loop\n"
          ]
        }
      ],
      "source": [
        "import random\n",
        "L = [random.random() for i in range(100000)]\n",
        "%timeit L.sort()\n",
        "\n",
        "print()\n",
        "\n",
        "%timeit L.sort()\n"
      ]
    },
    {
      "cell_type": "markdown",
      "metadata": {
        "id": "xuijEnTb9kiH"
      },
      "source": [
        "For this, the ``%time`` magic function may be a better choice. It also is a good choice for longer-running commands, when short, system-related delays are unlikely to affect the result.\n",
        "Let's time the sorting of an unsorted and a presorted list:"
      ]
    },
    {
      "cell_type": "code",
      "execution_count": null,
      "metadata": {
        "id": "nKAvOj5x9kiH",
        "outputId": "f123a99f-3d0e-4ddd-e488-ebf4a2014b0f",
        "colab": {
          "base_uri": "https://localhost:8080/"
        }
      },
      "outputs": [
        {
          "output_type": "stream",
          "name": "stdout",
          "text": [
            "sorting an unsorted list:\n",
            "CPU times: user 25.6 ms, sys: 177 µs, total: 25.8 ms\n",
            "Wall time: 26.7 ms\n",
            "sorting an unsorted list:\n",
            "CPU times: user 21.3 ms, sys: 85 µs, total: 21.4 ms\n",
            "Wall time: 21.4 ms\n"
          ]
        }
      ],
      "source": [
        "import random\n",
        "L = [random.random() for i in range(100000)]\n",
        "print(\"sorting an unsorted list:\")\n",
        "%time L.sort()"
      ]
    },
    {
      "cell_type": "code",
      "execution_count": null,
      "metadata": {
        "id": "Xh26FtES9kiI",
        "outputId": "25af1aa7-9db1-4cce-a09f-f73f32c9b42f",
        "colab": {
          "base_uri": "https://localhost:8080/"
        }
      },
      "outputs": [
        {
          "output_type": "stream",
          "name": "stdout",
          "text": [
            "sorting an already sorted list:\n",
            "CPU times: user 1.33 ms, sys: 86 µs, total: 1.41 ms\n",
            "Wall time: 1.42 ms\n",
            "sorting an already sorted list:\n",
            "CPU times: user 1.82 ms, sys: 0 ns, total: 1.82 ms\n",
            "Wall time: 1.83 ms\n"
          ]
        }
      ],
      "source": [
        "print(\"sorting an already sorted list:\")\n",
        "%time L.sort()"
      ]
    },
    {
      "cell_type": "markdown",
      "metadata": {
        "id": "Aqjsr0Ow9kiI"
      },
      "source": [
        "😀\n",
        "\n",
        "Notice how much faster the presorted list is to sort, but notice also how much longer the timing takes with ``%time`` versus ``%timeit``, even for the presorted list!\n",
        "This is a result of the fact that ``%timeit`` does some clever things under the hood to prevent system calls from interfering with the timing.\n",
        "For example, it prevents cleanup of unused Python objects (known as *garbage collection*) which might otherwise affect the timing.\n",
        "For this reason, ``%timeit`` results are usually noticeably faster than ``%time`` results.\n",
        "\n",
        "For ``%time`` as with ``%timeit``, using the double-percent-sign cell magic syntax allows timing of multiline scripts:\n",
        "\n",
        "😀"
      ]
    },
    {
      "cell_type": "code",
      "execution_count": null,
      "metadata": {
        "id": "UCDm7n6j9kiJ",
        "outputId": "3d33b232-cdfe-48d1-b42c-ae084123dfbb",
        "colab": {
          "base_uri": "https://localhost:8080/"
        }
      },
      "outputs": [
        {
          "output_type": "stream",
          "name": "stdout",
          "text": [
            "CPU times: user 428 ms, sys: 4.49 ms, total: 432 ms\n",
            "Wall time: 433 ms\n",
            "CPU times: user 429 ms, sys: 1.97 ms, total: 430 ms\n",
            "Wall time: 431 ms\n"
          ]
        }
      ],
      "source": [
        "%%time\n",
        "total = 0\n",
        "for i in range(1000):\n",
        "    for j in range(1000):\n",
        "        total += i * (-1) ** j"
      ]
    },
    {
      "cell_type": "markdown",
      "metadata": {
        "id": "qlhurGfh9kiJ"
      },
      "source": [
        "For more information on ``%time`` and ``%timeit``, as well as their available options, use the IPython help functionality (i.e., type ``%time?`` at the IPython prompt)."
      ]
    },
    {
      "cell_type": "markdown",
      "metadata": {
        "id": "066nxlEv9kiJ"
      },
      "source": [
        "## Profiling Full Scripts: ``%prun``\n",
        "\n",
        "A program is made of many single statements, and sometimes timing these statements in context is more important than timing them on their own.\n",
        "Python contains a built-in code profiler (which you can read about in the Python documentation), but IPython offers a much more convenient way to use this profiler, in the form of the magic function ``%prun``.\n",
        "\n",
        "By way of example, we'll define a simple function that does some calculations:"
      ]
    },
    {
      "cell_type": "code",
      "execution_count": null,
      "metadata": {
        "id": "1bkSXsWs9kiJ"
      },
      "outputs": [],
      "source": [
        "def sum_of_lists(N):\n",
        "    total = 0\n",
        "    for i in range(5):\n",
        "        # '^' ==> XOR operation\n",
        "        L = [j ^ (j >> i) for j in range(N)]\n",
        "        total += sum(L)\n",
        "        if (N<15): \n",
        "          print(f\"L[{i}]=[{L}], sum={total}\")  \n",
        "    return total\n",
        "\n",
        "#sum_of_lists(10)"
      ]
    },
    {
      "cell_type": "markdown",
      "metadata": {
        "id": "79GTkKKm9kiK"
      },
      "source": [
        "Now we can call ``%prun`` with a function call to see the profiled results:"
      ]
    },
    {
      "cell_type": "code",
      "execution_count": null,
      "metadata": {
        "id": "FscIt0RB9kiK",
        "outputId": "e3a2e72e-f9c7-4801-f515-1ef46c65ce77",
        "colab": {
          "base_uri": "https://localhost:8080/"
        }
      },
      "outputs": [
        {
          "output_type": "stream",
          "name": "stdout",
          "text": [
            "  "
          ]
        }
      ],
      "source": [
        "%prun sum_of_lists(1000000)"
      ]
    },
    {
      "cell_type": "markdown",
      "metadata": {
        "id": "asqQjKvF9kiK"
      },
      "source": [
        "In the notebook, the output is printed to the pager, and looks something like this:\n",
        "\n",
        "```\n",
        "14 function calls in 0.714 seconds\n",
        "\n",
        "   Ordered by: internal time\n",
        "\n",
        "   ncalls  tottime  percall  cumtime  percall filename:lineno(function)\n",
        "        5    0.599    0.120    0.599    0.120 <ipython-input-19>:4(<listcomp>)\n",
        "        5    0.064    0.013    0.064    0.013 {built-in method sum}\n",
        "        1    0.036    0.036    0.699    0.699 <ipython-input-19>:1(sum_of_lists)\n",
        "        1    0.014    0.014    0.714    0.714 <string>:1(<module>)\n",
        "        1    0.000    0.000    0.714    0.714 {built-in method exec}\n",
        "```\n",
        "\n",
        "The result is a table that indicates, in order of total time on each function call, where the execution is spending the most time. In this case, the bulk of execution time is in the list comprehension inside ``sum_of_lists``.\n",
        "From here, we could start thinking about what changes we might make to improve the performance in the algorithm.\n",
        "\n",
        "For more information on ``%prun``, as well as its available options, use the IPython help functionality (i.e., type ``%prun?`` at the IPython prompt)."
      ]
    },
    {
      "cell_type": "markdown",
      "metadata": {
        "id": "qg0z4TXU9kiK"
      },
      "source": [
        "## Line-By-Line Profiling with ``%lprun``\n",
        "\n",
        "The function-by-function profiling of ``%prun`` is useful, but sometimes it's more convenient to have a line-by-line profile report.\n",
        "This is not built into Python or IPython, but there is a ``line_profiler`` package available for installation that can do this.\n",
        "Start by using Python's packaging tool, ``pip``, to install the ``line_profiler`` package:\n",
        "\n",
        "```\n",
        "$ pip install line_profiler\n",
        "```\n",
        "\n",
        "Next, you can use IPython to load the ``line_profiler`` IPython extension, offered as part of this package:"
      ]
    },
    {
      "cell_type": "code",
      "source": [
        "## if run with colab\n",
        "!pip install line_profiler"
      ],
      "metadata": {
        "colab": {
          "base_uri": "https://localhost:8080/"
        },
        "id": "h2Ewgvd9LUaV",
        "outputId": "225a686c-df62-4c25-ffbf-31821de679d0"
      },
      "execution_count": null,
      "outputs": [
        {
          "output_type": "stream",
          "name": "stdout",
          "text": [
            "Requirement already satisfied: line_profiler in /usr/local/lib/python3.7/dist-packages (3.3.1)\n",
            "Requirement already satisfied: IPython>=0.13 in /usr/local/lib/python3.7/dist-packages (from line_profiler) (5.5.0)\n",
            "Requirement already satisfied: prompt-toolkit<2.0.0,>=1.0.4 in /usr/local/lib/python3.7/dist-packages (from IPython>=0.13->line_profiler) (1.0.18)\n",
            "Requirement already satisfied: decorator in /usr/local/lib/python3.7/dist-packages (from IPython>=0.13->line_profiler) (4.4.2)\n",
            "Requirement already satisfied: setuptools>=18.5 in /usr/local/lib/python3.7/dist-packages (from IPython>=0.13->line_profiler) (57.4.0)\n",
            "Requirement already satisfied: simplegeneric>0.8 in /usr/local/lib/python3.7/dist-packages (from IPython>=0.13->line_profiler) (0.8.1)\n",
            "Requirement already satisfied: pygments in /usr/local/lib/python3.7/dist-packages (from IPython>=0.13->line_profiler) (2.6.1)\n",
            "Requirement already satisfied: pexpect in /usr/local/lib/python3.7/dist-packages (from IPython>=0.13->line_profiler) (4.8.0)\n",
            "Requirement already satisfied: pickleshare in /usr/local/lib/python3.7/dist-packages (from IPython>=0.13->line_profiler) (0.7.5)\n",
            "Requirement already satisfied: traitlets>=4.2 in /usr/local/lib/python3.7/dist-packages (from IPython>=0.13->line_profiler) (5.1.1)\n",
            "Requirement already satisfied: wcwidth in /usr/local/lib/python3.7/dist-packages (from prompt-toolkit<2.0.0,>=1.0.4->IPython>=0.13->line_profiler) (0.2.5)\n",
            "Requirement already satisfied: six>=1.9.0 in /usr/local/lib/python3.7/dist-packages (from prompt-toolkit<2.0.0,>=1.0.4->IPython>=0.13->line_profiler) (1.15.0)\n",
            "Requirement already satisfied: ptyprocess>=0.5 in /usr/local/lib/python3.7/dist-packages (from pexpect->IPython>=0.13->line_profiler) (0.7.0)\n",
            "Requirement already satisfied: line_profiler in /usr/local/lib/python3.7/dist-packages (3.3.1)\n",
            "Requirement already satisfied: IPython>=0.13 in /usr/local/lib/python3.7/dist-packages (from line_profiler) (5.5.0)\n",
            "Requirement already satisfied: simplegeneric>0.8 in /usr/local/lib/python3.7/dist-packages (from IPython>=0.13->line_profiler) (0.8.1)\n",
            "Requirement already satisfied: traitlets>=4.2 in /usr/local/lib/python3.7/dist-packages (from IPython>=0.13->line_profiler) (5.1.1)\n",
            "Requirement already satisfied: decorator in /usr/local/lib/python3.7/dist-packages (from IPython>=0.13->line_profiler) (4.4.2)\n",
            "Requirement already satisfied: pickleshare in /usr/local/lib/python3.7/dist-packages (from IPython>=0.13->line_profiler) (0.7.5)\n",
            "Requirement already satisfied: prompt-toolkit<2.0.0,>=1.0.4 in /usr/local/lib/python3.7/dist-packages (from IPython>=0.13->line_profiler) (1.0.18)\n",
            "Requirement already satisfied: pygments in /usr/local/lib/python3.7/dist-packages (from IPython>=0.13->line_profiler) (2.6.1)\n",
            "Requirement already satisfied: setuptools>=18.5 in /usr/local/lib/python3.7/dist-packages (from IPython>=0.13->line_profiler) (57.4.0)\n",
            "Requirement already satisfied: pexpect in /usr/local/lib/python3.7/dist-packages (from IPython>=0.13->line_profiler) (4.8.0)\n",
            "Requirement already satisfied: six>=1.9.0 in /usr/local/lib/python3.7/dist-packages (from prompt-toolkit<2.0.0,>=1.0.4->IPython>=0.13->line_profiler) (1.15.0)\n",
            "Requirement already satisfied: wcwidth in /usr/local/lib/python3.7/dist-packages (from prompt-toolkit<2.0.0,>=1.0.4->IPython>=0.13->line_profiler) (0.2.5)\n",
            "Requirement already satisfied: ptyprocess>=0.5 in /usr/local/lib/python3.7/dist-packages (from pexpect->IPython>=0.13->line_profiler) (0.7.0)\n"
          ]
        }
      ]
    },
    {
      "cell_type": "code",
      "execution_count": null,
      "metadata": {
        "id": "8WGL3vUS9kiL",
        "colab": {
          "base_uri": "https://localhost:8080/"
        },
        "outputId": "5d1a5c55-0e17-4b3a-cfd8-d52ea68c1be5"
      },
      "outputs": [
        {
          "output_type": "stream",
          "name": "stdout",
          "text": [
            "The line_profiler extension is already loaded. To reload it, use:\n",
            "  %reload_ext line_profiler\n",
            "The line_profiler extension is already loaded. To reload it, use:\n",
            "  %reload_ext line_profiler\n"
          ]
        }
      ],
      "source": [
        "%load_ext line_profiler"
      ]
    },
    {
      "cell_type": "markdown",
      "metadata": {
        "id": "LNcZCrc49kiL"
      },
      "source": [
        "Now the ``%lprun`` command will do a line-by-line profiling of any function–in this case, we need to tell it explicitly which functions we're interested in profiling:"
      ]
    },
    {
      "cell_type": "code",
      "execution_count": null,
      "metadata": {
        "id": "_zXwXLO19kiL"
      },
      "outputs": [],
      "source": [
        "%lprun -f sum_of_lists sum_of_lists(1000000)"
      ]
    },
    {
      "cell_type": "markdown",
      "metadata": {
        "id": "JoHfH61N9kiL"
      },
      "source": [
        "As before, the notebook sends the result to the pager, but it looks something like this:\n",
        "\n",
        "```\n",
        "Timer unit: 1e-06 s\n",
        "\n",
        "Total time: 0.009382 s\n",
        "File: <ipython-input-19-fa2be176cc3e>\n",
        "Function: sum_of_lists at line 1\n",
        "\n",
        "Line #      Hits         Time  Per Hit   % Time  Line Contents\n",
        "==============================================================\n",
        "     1                                           def sum_of_lists(N):\n",
        "     2         1            2      2.0      0.0      total = 0\n",
        "     3         6            8      1.3      0.1      for i in range(5):\n",
        "     4         5         9001   1800.2     95.9          L = [j ^ (j >> i) for j in range(N)]\n",
        "     5         5          371     74.2      4.0          total += sum(L)\n",
        "     6         1            0      0.0      0.0      return total\n",
        "```\n",
        "\n",
        "The information at the top gives us the key to reading the results: the time is reported in microseconds and we can see where the program is spending the most time.\n",
        "At this point, we may be able to use this information to modify aspects of the script and make it perform better for our desired use case.\n",
        "\n",
        "For more information on ``%lprun``, as well as its available options, use the IPython help functionality (i.e., type ``%lprun?`` at the IPython prompt)."
      ]
    },
    {
      "cell_type": "markdown",
      "metadata": {
        "id": "_c5KLUzm9kiM"
      },
      "source": [
        "## Profiling Memory Use: ``%memit`` and ``%mprun``\n",
        "\n",
        "Another aspect of profiling is the amount of memory an operation uses.\n",
        "This can be evaluated with another IPython extension, the ``memory_profiler``.\n",
        "As with the ``line_profiler``, we start by ``pip``-installing the extension:\n",
        "\n",
        "```\n",
        "$ pip install memory_profiler\n",
        "```\n",
        "\n",
        "Then we can use IPython to load the extension:"
      ]
    },
    {
      "cell_type": "code",
      "source": [
        "### if running on colab\n",
        "!pip install memory_profiler"
      ],
      "metadata": {
        "colab": {
          "base_uri": "https://localhost:8080/"
        },
        "id": "hUyEWsAPecjD",
        "outputId": "85ead1ad-a685-4c64-dd7d-0376629791b3"
      },
      "execution_count": null,
      "outputs": [
        {
          "output_type": "stream",
          "name": "stdout",
          "text": [
            "Requirement already satisfied: memory_profiler in /usr/local/lib/python3.7/dist-packages (0.59.0)\n",
            "Requirement already satisfied: psutil in /usr/local/lib/python3.7/dist-packages (from memory_profiler) (5.4.8)\n",
            "Requirement already satisfied: memory_profiler in /usr/local/lib/python3.7/dist-packages (0.59.0)\n",
            "Requirement already satisfied: psutil in /usr/local/lib/python3.7/dist-packages (from memory_profiler) (5.4.8)\n"
          ]
        }
      ]
    },
    {
      "cell_type": "code",
      "execution_count": null,
      "metadata": {
        "id": "qgzrA-wL9kiM",
        "colab": {
          "base_uri": "https://localhost:8080/"
        },
        "outputId": "5a8372c0-e534-4faf-f824-15fa2c7013ac"
      },
      "outputs": [
        {
          "output_type": "stream",
          "name": "stdout",
          "text": [
            "The memory_profiler extension is already loaded. To reload it, use:\n",
            "  %reload_ext memory_profiler\n",
            "The memory_profiler extension is already loaded. To reload it, use:\n",
            "  %reload_ext memory_profiler\n"
          ]
        }
      ],
      "source": [
        "%load_ext memory_profiler"
      ]
    },
    {
      "cell_type": "markdown",
      "metadata": {
        "id": "HojYWyjf9kiM"
      },
      "source": [
        "The memory profiler extension contains two useful magic functions: the ``%memit`` magic (which offers a memory-measuring equivalent of ``%timeit``) and the ``%mprun`` function (which offers a memory-measuring equivalent of ``%lprun``).\n",
        "The ``%memit`` function can be used rather simply:"
      ]
    },
    {
      "cell_type": "code",
      "execution_count": null,
      "metadata": {
        "id": "-PEttzin9kiM",
        "outputId": "de5e8dae-cb5b-4b32-bf73-06866562e717",
        "colab": {
          "base_uri": "https://localhost:8080/"
        }
      },
      "outputs": [
        {
          "output_type": "stream",
          "name": "stdout",
          "text": [
            "peak memory: 217.59 MiB, increment: 30.89 MiB\n",
            "peak memory: 217.56 MiB, increment: 29.12 MiB\n"
          ]
        }
      ],
      "source": [
        "%memit sum_of_lists(1000000)"
      ]
    },
    {
      "cell_type": "markdown",
      "metadata": {
        "id": "Ev8qqY7T9kiM"
      },
      "source": [
        "We see that this function uses about 100 MB of memory.\n",
        "\n",
        "For a line-by-line description of memory use, we can use the ``%mprun`` magic.\n",
        "Unfortunately, this magic works only for functions defined in separate modules rather than the notebook itself, so we'll start by using the ``%%file`` magic to create a simple module called ``mprun_demo.py``, which contains our ``sum_of_lists`` function, with one addition that will make our memory profiling results more clear:"
      ]
    },
    {
      "cell_type": "code",
      "execution_count": null,
      "metadata": {
        "id": "765CiLjY9kiN",
        "outputId": "2c33d63e-f706-4c7f-aef2-3c42afea25c3",
        "colab": {
          "base_uri": "https://localhost:8080/"
        }
      },
      "outputs": [
        {
          "output_type": "stream",
          "name": "stdout",
          "text": [
            "Overwriting mprun_demo.py\n",
            "Overwriting mprun_demo.py\n"
          ]
        }
      ],
      "source": [
        "%%file mprun_demo.py\n",
        "def sum_of_lists(N):\n",
        "    total = 0\n",
        "    for i in range(5):\n",
        "        L = [j ^ (j >> i) for j in range(N)]\n",
        "        total += sum(L)\n",
        "        del L # remove reference to L\n",
        "    return total"
      ]
    },
    {
      "cell_type": "markdown",
      "metadata": {
        "id": "KOQThkff9kiN"
      },
      "source": [
        "We can now import the new version of this function and run the memory line profiler:"
      ]
    },
    {
      "cell_type": "code",
      "execution_count": null,
      "metadata": {
        "id": "TNhtHgk89kiN",
        "outputId": "6573b347-ee7e-4240-f956-12d091bfe24c",
        "colab": {
          "base_uri": "https://localhost:8080/"
        }
      },
      "outputs": [
        {
          "output_type": "stream",
          "name": "stdout",
          "text": [
            "\n"
          ]
        }
      ],
      "source": [
        "from mprun_demo import sum_of_lists\n",
        "%mprun -f sum_of_lists sum_of_lists(1000000)"
      ]
    },
    {
      "cell_type": "markdown",
      "metadata": {
        "id": "bYkMqLVl9kiN"
      },
      "source": [
        "The result, printed to the pager, gives us a summary of the memory use of the function, and looks something like this:\n",
        "```\n",
        "Filename: ./mprun_demo.py\n",
        "\n",
        "Line #    Mem usage    Increment   Line Contents\n",
        "================================================\n",
        "     4     71.9 MiB      0.0 MiB           L = [j ^ (j >> i) for j in range(N)]\n",
        "\n",
        "\n",
        "Filename: ./mprun_demo.py\n",
        "\n",
        "Line #    Mem usage    Increment   Line Contents\n",
        "================================================\n",
        "     1     39.0 MiB      0.0 MiB   def sum_of_lists(N):\n",
        "     2     39.0 MiB      0.0 MiB       total = 0\n",
        "     3     46.5 MiB      7.5 MiB       for i in range(5):\n",
        "     4     71.9 MiB     25.4 MiB           L = [j ^ (j >> i) for j in range(N)]\n",
        "     5     71.9 MiB      0.0 MiB           total += sum(L)\n",
        "     6     46.5 MiB    -25.4 MiB           del L # remove reference to L\n",
        "     7     39.1 MiB     -7.4 MiB       return total\n",
        "```\n",
        "Here the ``Increment`` column tells us how much each line affects the total memory budget: observe that when we create and delete the list ``L``, we are adding about 25 MB of memory usage.\n",
        "This is on top of the background memory usage from the Python interpreter itself.\n",
        "\n",
        "For more information on ``%memit`` and ``%mprun``, as well as their available options, use the IPython help functionality (i.e., type ``%memit?`` at the IPython prompt)."
      ]
    },
    {
      "cell_type": "markdown",
      "metadata": {
        "id": "jyjNvKzM9kiO"
      },
      "source": [
        "<!--NAVIGATION-->\n",
        "< [Errors and Debugging](01.06-Errors-and-Debugging.ipynb) | [Contents](Index.ipynb) | [More IPython Resources](01.08-More-IPython-Resources.ipynb) >\n",
        "\n",
        "<a href=\"https://colab.research.google.com/github/jakevdp/PythonDataScienceHandbook/blob/master/notebooks/01.07-Timing-and-Profiling.ipynb\"><img align=\"left\" src=\"https://colab.research.google.com/assets/colab-badge.svg\" alt=\"Open in Colab\" title=\"Open and Execute in Google Colaboratory\"></a>\n"
      ]
    }
  ],
  "metadata": {
    "anaconda-cloud": {},
    "kernelspec": {
      "display_name": "Python [default]",
      "language": "python",
      "name": "python3"
    },
    "language_info": {
      "codemirror_mode": {
        "name": "ipython",
        "version": 3
      },
      "file_extension": ".py",
      "mimetype": "text/x-python",
      "name": "python",
      "nbconvert_exporter": "python",
      "pygments_lexer": "ipython3",
      "version": "3.6.1"
    },
    "colab": {
      "name": "100.01.07-Timing-and-Profiling.ipynb",
      "provenance": [],
      "collapsed_sections": [],
      "include_colab_link": true
    }
  },
  "nbformat": 4,
  "nbformat_minor": 0
}